{
 "cells": [
  {
   "cell_type": "code",
   "execution_count": 1,
   "metadata": {},
   "outputs": [],
   "source": [
    "import pandas as pd"
   ]
  },
  {
   "cell_type": "code",
   "execution_count": 5,
   "metadata": {},
   "outputs": [],
   "source": [
    "data=pd.read_csv(\"https://raw.githubusercontent.com/aspdiscovery123/ANZ-Bangalore/master/iris.csv\")"
   ]
  },
  {
   "cell_type": "code",
   "execution_count": 6,
   "metadata": {},
   "outputs": [
    {
     "data": {
      "text/html": [
       "<div>\n",
       "<style scoped>\n",
       "    .dataframe tbody tr th:only-of-type {\n",
       "        vertical-align: middle;\n",
       "    }\n",
       "\n",
       "    .dataframe tbody tr th {\n",
       "        vertical-align: top;\n",
       "    }\n",
       "\n",
       "    .dataframe thead th {\n",
       "        text-align: right;\n",
       "    }\n",
       "</style>\n",
       "<table border=\"1\" class=\"dataframe\">\n",
       "  <thead>\n",
       "    <tr style=\"text-align: right;\">\n",
       "      <th></th>\n",
       "      <th>sepal_length</th>\n",
       "      <th>sepal_width</th>\n",
       "      <th>petal_length</th>\n",
       "      <th>petal_width</th>\n",
       "      <th>species</th>\n",
       "    </tr>\n",
       "  </thead>\n",
       "  <tbody>\n",
       "    <tr>\n",
       "      <th>0</th>\n",
       "      <td>5.1</td>\n",
       "      <td>3.5</td>\n",
       "      <td>1.4</td>\n",
       "      <td>0.2</td>\n",
       "      <td>setosa</td>\n",
       "    </tr>\n",
       "    <tr>\n",
       "      <th>1</th>\n",
       "      <td>4.9</td>\n",
       "      <td>3.0</td>\n",
       "      <td>1.4</td>\n",
       "      <td>0.2</td>\n",
       "      <td>setosa</td>\n",
       "    </tr>\n",
       "    <tr>\n",
       "      <th>2</th>\n",
       "      <td>4.7</td>\n",
       "      <td>3.2</td>\n",
       "      <td>1.3</td>\n",
       "      <td>0.2</td>\n",
       "      <td>setosa</td>\n",
       "    </tr>\n",
       "    <tr>\n",
       "      <th>3</th>\n",
       "      <td>4.6</td>\n",
       "      <td>3.1</td>\n",
       "      <td>1.5</td>\n",
       "      <td>0.2</td>\n",
       "      <td>setosa</td>\n",
       "    </tr>\n",
       "    <tr>\n",
       "      <th>4</th>\n",
       "      <td>5.0</td>\n",
       "      <td>3.6</td>\n",
       "      <td>1.4</td>\n",
       "      <td>0.2</td>\n",
       "      <td>setosa</td>\n",
       "    </tr>\n",
       "  </tbody>\n",
       "</table>\n",
       "</div>"
      ],
      "text/plain": [
       "   sepal_length  sepal_width  petal_length  petal_width species\n",
       "0           5.1          3.5           1.4          0.2  setosa\n",
       "1           4.9          3.0           1.4          0.2  setosa\n",
       "2           4.7          3.2           1.3          0.2  setosa\n",
       "3           4.6          3.1           1.5          0.2  setosa\n",
       "4           5.0          3.6           1.4          0.2  setosa"
      ]
     },
     "execution_count": 6,
     "metadata": {},
     "output_type": "execute_result"
    }
   ],
   "source": [
    "data.head()"
   ]
  },
  {
   "cell_type": "code",
   "execution_count": 7,
   "metadata": {},
   "outputs": [],
   "source": [
    "x=data.drop(\"species\",axis=1)"
   ]
  },
  {
   "cell_type": "code",
   "execution_count": 9,
   "metadata": {},
   "outputs": [
    {
     "data": {
      "text/plain": [
       "(150, 4)"
      ]
     },
     "execution_count": 9,
     "metadata": {},
     "output_type": "execute_result"
    }
   ],
   "source": [
    "x.shape"
   ]
  },
  {
   "cell_type": "code",
   "execution_count": 10,
   "metadata": {},
   "outputs": [],
   "source": [
    "y=data[[\"species\"]]"
   ]
  },
  {
   "cell_type": "code",
   "execution_count": 11,
   "metadata": {},
   "outputs": [
    {
     "data": {
      "text/plain": [
       "(150, 1)"
      ]
     },
     "execution_count": 11,
     "metadata": {},
     "output_type": "execute_result"
    }
   ],
   "source": [
    "y.shape"
   ]
  },
  {
   "cell_type": "code",
   "execution_count": 13,
   "metadata": {},
   "outputs": [],
   "source": [
    "from sklearn.model_selection import train_test_split\n",
    "xtrain,xtest,ytrain,ytest=train_test_split(x,y,test_size=0.2,random_state=2)"
   ]
  },
  {
   "cell_type": "code",
   "execution_count": 14,
   "metadata": {},
   "outputs": [],
   "source": [
    "from sklearn.neural_network import MLPClassifier"
   ]
  },
  {
   "cell_type": "code",
   "execution_count": 33,
   "metadata": {},
   "outputs": [
    {
     "name": "stderr",
     "output_type": "stream",
     "text": [
      "C:\\Users\\ASPDISCOVERY\\Anaconda3\\lib\\site-packages\\sklearn\\neural_network\\multilayer_perceptron.py:912: DataConversionWarning: A column-vector y was passed when a 1d array was expected. Please change the shape of y to (n_samples, ), for example using ravel().\n",
      "  y = column_or_1d(y, warn=True)\n"
     ]
    },
    {
     "name": "stdout",
     "output_type": "stream",
     "text": [
      "Iteration 1, loss = 1.89013832\n",
      "Iteration 2, loss = 1.73469193\n",
      "Iteration 3, loss = 1.58965904\n",
      "Iteration 4, loss = 1.45647350\n",
      "Iteration 5, loss = 1.33619314\n",
      "Iteration 6, loss = 1.23421977\n",
      "Iteration 7, loss = 1.15240120\n",
      "Iteration 8, loss = 1.08739121\n",
      "Iteration 9, loss = 1.03418894\n",
      "Iteration 10, loss = 0.99142726\n",
      "Iteration 11, loss = 0.95810721\n",
      "Iteration 12, loss = 0.93320482\n",
      "Iteration 13, loss = 0.91433585\n",
      "Iteration 14, loss = 0.89954986\n",
      "Iteration 15, loss = 0.88796578\n",
      "Iteration 16, loss = 0.87797531\n",
      "Iteration 17, loss = 0.86879401\n",
      "Iteration 18, loss = 0.86053518\n",
      "Iteration 19, loss = 0.85276104\n",
      "Iteration 20, loss = 0.84543643\n",
      "Iteration 21, loss = 0.83821731\n",
      "Iteration 22, loss = 0.83058236\n",
      "Iteration 23, loss = 0.82240325\n",
      "Iteration 24, loss = 0.81331335\n",
      "Iteration 25, loss = 0.80330721\n",
      "Iteration 26, loss = 0.79255732\n",
      "Iteration 27, loss = 0.78126443\n",
      "Iteration 28, loss = 0.76973003\n",
      "Iteration 29, loss = 0.75829734\n",
      "Iteration 30, loss = 0.74711045\n",
      "Iteration 31, loss = 0.73614151\n",
      "Iteration 32, loss = 0.72542745\n",
      "Iteration 33, loss = 0.71513197\n",
      "Iteration 34, loss = 0.70552558\n",
      "Iteration 35, loss = 0.69662962\n",
      "Iteration 36, loss = 0.68824290\n",
      "Iteration 37, loss = 0.68028444\n",
      "Iteration 38, loss = 0.67268187\n",
      "Iteration 39, loss = 0.66511679\n",
      "Iteration 40, loss = 0.65740022\n",
      "Iteration 41, loss = 0.64942453\n",
      "Iteration 42, loss = 0.64143989\n",
      "Iteration 43, loss = 0.63346929\n",
      "Iteration 44, loss = 0.62540734\n",
      "Iteration 45, loss = 0.61730583\n",
      "Iteration 46, loss = 0.60919414\n",
      "Iteration 47, loss = 0.60117334\n",
      "Iteration 48, loss = 0.59325726\n",
      "Iteration 49, loss = 0.58547358\n",
      "Iteration 50, loss = 0.57781025\n",
      "Iteration 51, loss = 0.57025921\n",
      "Iteration 52, loss = 0.56288066\n",
      "Iteration 53, loss = 0.55580797\n",
      "Iteration 54, loss = 0.54899818\n",
      "Iteration 55, loss = 0.54244473\n",
      "Iteration 56, loss = 0.53613088\n",
      "Iteration 57, loss = 0.53005560\n",
      "Iteration 58, loss = 0.52410468\n",
      "Iteration 59, loss = 0.51826226\n",
      "Iteration 60, loss = 0.51245799\n",
      "Iteration 61, loss = 0.50669121\n",
      "Iteration 62, loss = 0.50097736\n",
      "Iteration 63, loss = 0.49533830\n",
      "Iteration 64, loss = 0.48978478\n",
      "Iteration 65, loss = 0.48432048\n",
      "Iteration 66, loss = 0.47895699\n",
      "Iteration 67, loss = 0.47370310\n",
      "Iteration 68, loss = 0.46853387\n",
      "Iteration 69, loss = 0.46337868\n",
      "Iteration 70, loss = 0.45808743\n",
      "Iteration 71, loss = 0.45261415\n",
      "Iteration 72, loss = 0.44696720\n",
      "Iteration 73, loss = 0.44171059\n",
      "Iteration 74, loss = 0.43700145\n",
      "Iteration 75, loss = 0.43265005\n",
      "Iteration 76, loss = 0.42837894\n",
      "Iteration 77, loss = 0.42414020\n",
      "Iteration 78, loss = 0.41990041\n",
      "Iteration 79, loss = 0.41563645\n",
      "Iteration 80, loss = 0.41136930\n",
      "Iteration 81, loss = 0.40711923\n",
      "Iteration 82, loss = 0.40287965\n",
      "Iteration 83, loss = 0.39862723\n",
      "Iteration 84, loss = 0.39434323\n",
      "Iteration 85, loss = 0.38998543\n",
      "Iteration 86, loss = 0.38575127\n",
      "Iteration 87, loss = 0.38174853\n",
      "Iteration 88, loss = 0.37786837\n",
      "Iteration 89, loss = 0.37402736\n",
      "Iteration 90, loss = 0.37021041\n",
      "Iteration 91, loss = 0.36645330\n",
      "Iteration 92, loss = 0.36270447\n",
      "Iteration 93, loss = 0.35901671\n",
      "Iteration 94, loss = 0.35539190\n",
      "Iteration 95, loss = 0.35182730\n",
      "Iteration 96, loss = 0.34831589\n",
      "Iteration 97, loss = 0.34481412\n",
      "Iteration 98, loss = 0.34110439\n",
      "Iteration 99, loss = 0.33710960\n",
      "Iteration 100, loss = 0.33315725\n",
      "Iteration 101, loss = 0.32969036\n",
      "Iteration 102, loss = 0.32629672\n",
      "Iteration 103, loss = 0.32291283\n",
      "Iteration 104, loss = 0.31953901\n",
      "Iteration 105, loss = 0.31618038\n",
      "Iteration 106, loss = 0.31284007\n",
      "Iteration 107, loss = 0.30951415\n",
      "Iteration 108, loss = 0.30620510\n",
      "Iteration 109, loss = 0.30291159\n",
      "Iteration 110, loss = 0.29963842\n",
      "Iteration 111, loss = 0.29638837\n",
      "Iteration 112, loss = 0.29315992\n",
      "Iteration 113, loss = 0.28995265\n",
      "Iteration 114, loss = 0.28676265\n",
      "Iteration 115, loss = 0.28360101\n",
      "Iteration 116, loss = 0.28047993\n",
      "Iteration 117, loss = 0.27738452\n",
      "Iteration 118, loss = 0.27430757\n",
      "Iteration 119, loss = 0.27124734\n",
      "Iteration 120, loss = 0.26820536\n",
      "Iteration 121, loss = 0.26517993\n",
      "Iteration 122, loss = 0.26216558\n",
      "Iteration 123, loss = 0.25916005\n",
      "Iteration 124, loss = 0.25616325\n",
      "Iteration 125, loss = 0.25317632\n",
      "Iteration 126, loss = 0.25019386\n",
      "Iteration 127, loss = 0.24723520\n",
      "Iteration 128, loss = 0.24430003\n",
      "Iteration 129, loss = 0.24137713\n",
      "Iteration 130, loss = 0.23848172\n",
      "Iteration 131, loss = 0.23561613\n",
      "Iteration 132, loss = 0.23277625\n",
      "Iteration 133, loss = 0.22993102\n",
      "Iteration 134, loss = 0.22710697\n",
      "Iteration 135, loss = 0.22433193\n",
      "Iteration 136, loss = 0.22159425\n",
      "Iteration 137, loss = 0.21888665\n",
      "Iteration 138, loss = 0.21620613\n",
      "Iteration 139, loss = 0.21355331\n",
      "Iteration 140, loss = 0.21095074\n",
      "Iteration 141, loss = 0.20838633\n",
      "Iteration 142, loss = 0.20585652\n",
      "Iteration 143, loss = 0.20337345\n",
      "Iteration 144, loss = 0.20093637\n",
      "Iteration 145, loss = 0.19853656\n",
      "Iteration 146, loss = 0.19616675\n",
      "Iteration 147, loss = 0.19382176\n",
      "Iteration 148, loss = 0.19148503\n",
      "Iteration 149, loss = 0.18912885\n",
      "Iteration 150, loss = 0.18672617\n",
      "Iteration 151, loss = 0.18436473\n",
      "Iteration 152, loss = 0.18206411\n",
      "Iteration 153, loss = 0.17985226\n",
      "Iteration 154, loss = 0.17771823\n",
      "Iteration 155, loss = 0.17562511\n",
      "Iteration 156, loss = 0.17356693\n",
      "Iteration 157, loss = 0.17154473\n",
      "Iteration 158, loss = 0.16956194\n",
      "Iteration 159, loss = 0.16761006\n",
      "Iteration 160, loss = 0.16569128\n",
      "Iteration 161, loss = 0.16380687\n",
      "Iteration 162, loss = 0.16195627\n",
      "Iteration 163, loss = 0.16014027\n",
      "Iteration 164, loss = 0.15835795\n",
      "Iteration 165, loss = 0.15660839\n",
      "Iteration 166, loss = 0.15489037\n",
      "Iteration 167, loss = 0.15320350\n",
      "Iteration 168, loss = 0.15154787\n",
      "Iteration 169, loss = 0.14992279\n",
      "Iteration 170, loss = 0.14832827\n",
      "Iteration 171, loss = 0.14676574\n",
      "Iteration 172, loss = 0.14523368\n",
      "Iteration 173, loss = 0.14373082\n",
      "Iteration 174, loss = 0.14225828\n",
      "Iteration 175, loss = 0.14081498\n",
      "Iteration 176, loss = 0.13939965\n",
      "Iteration 177, loss = 0.13801205\n",
      "Iteration 178, loss = 0.13665283\n",
      "Iteration 179, loss = 0.13532187\n",
      "Iteration 180, loss = 0.13401778\n",
      "Iteration 181, loss = 0.13273998\n",
      "Iteration 182, loss = 0.13148855\n",
      "Iteration 183, loss = 0.13026440\n",
      "Iteration 184, loss = 0.12906499\n",
      "Iteration 185, loss = 0.12789112\n",
      "Iteration 186, loss = 0.12674101\n",
      "Iteration 187, loss = 0.12561466\n",
      "Iteration 188, loss = 0.12451214\n",
      "Iteration 189, loss = 0.12343420\n",
      "Iteration 190, loss = 0.12237794\n",
      "Iteration 191, loss = 0.12134354\n",
      "Iteration 192, loss = 0.12032802\n",
      "Iteration 193, loss = 0.11929912\n",
      "Iteration 194, loss = 0.11818222\n",
      "Iteration 195, loss = 0.11718319\n",
      "Iteration 196, loss = 0.11622258\n",
      "Iteration 197, loss = 0.11527589\n",
      "Iteration 198, loss = 0.11434658\n",
      "Iteration 199, loss = 0.11343423\n",
      "Iteration 200, loss = 0.11253718\n"
     ]
    },
    {
     "name": "stderr",
     "output_type": "stream",
     "text": [
      "C:\\Users\\ASPDISCOVERY\\Anaconda3\\lib\\site-packages\\sklearn\\neural_network\\multilayer_perceptron.py:564: ConvergenceWarning: Stochastic Optimizer: Maximum iterations (200) reached and the optimization hasn't converged yet.\n",
      "  % self.max_iter, ConvergenceWarning)\n"
     ]
    },
    {
     "data": {
      "text/plain": [
       "MLPClassifier(activation='relu', alpha=0.0001, batch_size='auto', beta_1=0.9,\n",
       "       beta_2=0.999, early_stopping=False, epsilon=1e-08,\n",
       "       hidden_layer_sizes=(50, 50), learning_rate='constant',\n",
       "       learning_rate_init=0.001, max_iter=200, momentum=0.9,\n",
       "       nesterovs_momentum=True, power_t=0.5, random_state=None,\n",
       "       shuffle=True, solver='adam', tol=0.0001, validation_fraction=0.1,\n",
       "       verbose=True, warm_start=False)"
      ]
     },
     "execution_count": 33,
     "metadata": {},
     "output_type": "execute_result"
    }
   ],
   "source": [
    "algo=MLPClassifier(hidden_layer_sizes=(50,50),verbose=True)\n",
    "algo.fit(xtrain,ytrain)"
   ]
  },
  {
   "cell_type": "code",
   "execution_count": 31,
   "metadata": {},
   "outputs": [],
   "source": [
    "ypred=algo.predict(xtest)"
   ]
  },
  {
   "cell_type": "code",
   "execution_count": 32,
   "metadata": {},
   "outputs": [
    {
     "name": "stdout",
     "output_type": "stream",
     "text": [
      "1.0\n",
      "[[14  0  0]\n",
      " [ 0  8  0]\n",
      " [ 0  0  8]]\n"
     ]
    }
   ],
   "source": [
    "from sklearn.metrics import accuracy_score,confusion_matrix\n",
    "print(accuracy_score(ytest,ypred))\n",
    "print(confusion_matrix(ytest,ypred))"
   ]
  },
  {
   "cell_type": "code",
   "execution_count": 34,
   "metadata": {},
   "outputs": [],
   "source": [
    "import pickle \n",
    "pickle.dump(algo,open(r\"F:\\mlp.pkl\",\"wb\"))"
   ]
  },
  {
   "cell_type": "code",
   "execution_count": null,
   "metadata": {},
   "outputs": [],
   "source": []
  },
  {
   "cell_type": "code",
   "execution_count": null,
   "metadata": {},
   "outputs": [],
   "source": []
  }
 ],
 "metadata": {
  "kernelspec": {
   "display_name": "Python 3",
   "language": "python",
   "name": "python3"
  },
  "language_info": {
   "codemirror_mode": {
    "name": "ipython",
    "version": 3
   },
   "file_extension": ".py",
   "mimetype": "text/x-python",
   "name": "python",
   "nbconvert_exporter": "python",
   "pygments_lexer": "ipython3",
   "version": "3.6.5"
  }
 },
 "nbformat": 4,
 "nbformat_minor": 2
}
